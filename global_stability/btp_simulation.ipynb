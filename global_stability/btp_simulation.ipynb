{
 "cells": [
  {
   "cell_type": "markdown",
   "metadata": {},
   "source": [
    "# Global Stability Analysis for Distributed Law"
   ]
  },
  {
   "cell_type": "code",
   "execution_count": 29,
   "metadata": {
    "metadata": {}
   },
   "outputs": [],
   "source": [
    "import numpy as np\n",
    "from math import sin, cos, atan2\n",
    "import torch\n",
    "import sympy as sp\n",
    "from scipy import integrate\n",
    "import tqdm\n",
    "import multiprocessing\n",
    "from tqdm.contrib.concurrent import process_map"
   ]
  },
  {
   "cell_type": "markdown",
   "metadata": {},
   "source": [
    "### Simulation function"
   ]
  },
  {
   "cell_type": "code",
   "execution_count": 30,
   "metadata": {
    "metadata": {}
   },
   "outputs": [],
   "source": [
    "\n",
    "sample_count = 100000\n",
    "\n",
    "def foot(x, t, l, k1, k2):\n",
    "    a = -(x[4] - k1)\n",
    "    b = -(x[5] - k2)\n",
    "    t1 = x[6]\n",
    "    t2 = x[7]\n",
    "    t3 = x[8]\n",
    "    p1 = sin(t1)\n",
    "    p2 = cos(t1)\n",
    "    p3 = sin(t2)\n",
    "    p4 = cos(t2)\n",
    "    p5 = sin(t3)\n",
    "    p6 = cos(t3)\n",
    "    p7 = sin(t1 + t2)\n",
    "    p8 = cos(t1 + t2)\n",
    "    p9 = sin(t1 + t2 + t3)\n",
    "    p10 = cos(t1 + t2 + t3)\n",
    "    p11 = sin(t2 + t3)\n",
    "    p12 = cos(t2 + t3)\n",
    "    x_prime = b * p9 + a * p10\n",
    "    y_prime = b * p10 - a * p9\n",
    "    a = x_prime\n",
    "    b = y_prime\n",
    "    x1dot = -l * p1 * (atan2((l * p3 + l * p11 + a * p11 + b * p12), (l + l * p4 + l * p12 + a * p12 - b * p11)) -\n",
    "                      atan2((l * p3 + l * p11), (l + l * p4 + l * p12)))\n",
    "    x2dot = l * p2 * (atan2((l * p3 + l * p11 + a * p11 + b * p12), (l + l * p4 + l * p12 + a * p12 - b * p11)) -\n",
    "                     atan2((l * p3 + l * p11), (l + l * p4 + l * p12)))\n",
    "    x3dot = (-l * p1 - l * p7) * (atan2((l * p3 + l * p11 + a * p11 + b * p12), (l + l * p4 + l * p12 + a * p12 - b * p11)) -\n",
    "                                 atan2((l * p3 + l * p11), (l + l * p4 + l * p12))) - l * p7 * (atan2((l * p5 + a * p5 + b * p6), (l + l * p6 + a * p6 - b * p5)) -\n",
    "                                                                                                atan2((l * p5), (l + l * p6)))\n",
    "    x4dot = (l * p2 + l * p8) * (atan2((l * p3 + l * p11 + a * p11 + b * p12), (l + l * p4 + l * p12 + a * p12 - b * p11)) -\n",
    "                                atan2((l * p3 + l * p11), (l + l * p4 + l * p12))) + l * p8 * (atan2((l * p5 + a * p5 + b * p6), (l + l * p6 + a * p6 - b * p5)) -\n",
    "                                                                                               atan2((l * p5), (l + l * p6)))\n",
    "    x5dot = (-l * p1 - l * p7 - l * p9) * (atan2((l * p3 + l * p11 + a * p11 + b * p12), (l + l * p4 + l * p12 + a * p12 - b * p11)) -\n",
    "                                          atan2((l * p3 + l * p11), (l + l * p4 + l * p12))) + (-l * p7 - l * p9) * (atan2((l * p5 + a * p5 + b * p6), (l + l * p6 + a * p6 - b * p5)) -\n",
    "                                                                                                                 atan2((l * p5), (l + l * p6))) - l * p9 * atan2(b, (l + a))\n",
    "    x6dot = (l * p2 + l * p8 + l * p10) * (atan2((l * p3 + l * p11 + a * p11 + b * p12), (l + l * p4 + l * p12 + a * p12 - b * p11)) -\n",
    "                                          atan2((l * p3 + l * p11), (l + l * p4 + l * p12))) + (l * p8 + l * p10) * (atan2((l * p5 + a * p5 + b * p6), (l + l * p6 + a * p6 - b * p5)) -\n",
    "                                                                                                                 atan2((l * p5), (l + l * p6))) + l * p10 * atan2(b, (l + a))\n",
    "    t1dot = (atan2((l * p3 + l * p11 + a * p11 + b * p12), (l + l * p4 + l * p12 + a * p12 - b * p11)) -\n",
    "             atan2((l * p3 + l * p11), (l + l * p4 + l * p12)))\n",
    "    t2dot = (atan2((l * p5 + a * p5 + b * p6), (l + l * p6 + a * p6 - b * p5)) -\n",
    "             atan2((l * p5), (l + l * p6)))\n",
    "    t3dot = atan2(b, (l + a))\n",
    "    dXdt = np.array([x1dot, x2dot, x3dot, x4dot, x5dot, x6dot, t1dot, t2dot, t3dot])\n",
    "    return dXdt\n",
    "\n"
   ]
  },
  {
   "cell_type": "markdown",
   "metadata": {},
   "source": [
    "### System Variable Definitions"
   ]
  },
  {
   "cell_type": "code",
   "execution_count": 31,
   "metadata": {
    "metadata": {}
   },
   "outputs": [],
   "source": [
    "\n",
    "# Define all the system variables\n",
    "delta_1, delta_2, delta_3, phi_1, phi_2, phi_3, alpha, R, l, D_11, D_12, D_13 = sp.symbols('delta_1 delta_2 delta_3 phi_1 phi_2 phi_3 alpha R l D_11 D_12 D_13')\n",
    "\n",
    "delta_1 = alpha - sp.atan2((sp.sin(phi_1) + sp.sin(phi_1 + phi_2) + sp.sin(phi_1 + phi_2 + phi_3)), (sp.cos(phi_1) + sp.cos(phi_1 + phi_2) + sp.cos(phi_1 + phi_2 + phi_3)))\n",
    "delta_2 = sp.atan2((R * sp.sin(alpha) - l * sp.sin(phi_1)), (R * sp.cos(alpha) - l * sp.cos(phi_1))) - sp.atan2((sp.sin(phi_1 + phi_2) + sp.sin(phi_1 + phi_2 + phi_3)), (sp.cos(phi_1 + phi_2) + sp.cos(phi_1 + phi_2 + phi_3)))\n",
    "delta_3 = sp.atan2((R * sp.sin(alpha) - 2 * l * sp.sin(phi_1 + phi_2 / 2) * sp.cos(phi_2 / 2)), (R * sp.cos(alpha) - 2 * l * sp.cos(phi_1 + phi_2 / 2) * sp.cos(phi_2 / 2))) - (phi_1 + phi_2 + phi_3)\n",
    "\n",
    "\n",
    "c_1 = sp.cos(phi_1)\n",
    "c_12 = sp.cos(phi_1 + phi_2)\n",
    "c_123 = sp.cos(phi_1 + phi_2 + phi_3)\n",
    "c_3 = sp.cos(phi_3)\n",
    "c_23 = sp.cos(phi_2 + phi_3)\n",
    "c_2 = sp.cos(phi_2)\n",
    "\n",
    "s_1 = sp.sin(phi_1)\n",
    "s_12 = sp.sin(phi_1 + phi_2)\n",
    "s_123 = sp.sin(phi_1 + phi_2 + phi_3)\n",
    "s_3 = sp.sin(phi_3)\n",
    "s_23 = sp.sin(phi_2 + phi_3)\n",
    "s_2 = sp.sin(phi_2)\n",
    "\n",
    "y_1 = l * s_1\n",
    "y_2 = l * s_12\n",
    "y_3 = l * s_123\n",
    "y_E = l * (s_1 + s_12 + s_123)\n"
   ]
  },
  {
   "cell_type": "code",
   "execution_count": 32,
   "metadata": {
    "metadata": {}
   },
   "outputs": [],
   "source": [
    "\n",
    "v_dot = 2 * R * ((y_1 + y_2 + y_3) * delta_1 + (y_2 + y_3) * delta_2 + (y_3) * delta_3) - 2 * l ** 2 * ((s_2 + s_23) * delta_2 + (s_3 + s_23) * delta_3)\n",
    "\n",
    "qty = -delta_1*delta_1-(delta_1*delta_2*(2+c_23+2*c_3+c_2)+delta_1*delta_3*(1+c_3+c_23))/((s_1+s_12+s_123)**2+(c_1+c_12+c_123)**2)\n",
    "qty_2 = delta_2*(l*c_1*delta_1*(R-l*c_1) + l**2*s_1**2*delta_1)/(l**2*s_1**2+(R-l*c_1)**2) + delta_2*((c_12*(delta_1+delta_2)+c_123*(delta_1+delta_2+delta_3))*(c_12+c_123)+(s_12*(delta_1+delta_2)+s_123*(delta_1+delta_2+delta_3))*(s_12+s_123))/((s_12+s_123)**2+(c_12+c_123)**2)\n",
    "qty_2 = -qty_2\n",
    "qty_3 = delta_3*(-l*(c_1*delta_1+c_12*(delta_1+delta_2))*(R-l*(c_1+c_12))-l**2*(s_1+s_12)*(s_1*delta_1+s_12*(delta_1+delta_2)))/((R-l*c_1-l*c_12)**2+l**2*(s_1+s_12)**2) - delta_3*(delta_1+delta_2+delta_3)\n",
    "\n",
    "\n",
    "import numpy as np\n",
    "from scipy.integrate import ode\n",
    "\n",
    "count = 0\n",
    "r = 0.5\n",
    "v_dot_subs_f = -1\n",
    "d_pr = np.array([0.1, 0.1, 0.1])\n"
   ]
  },
  {
   "cell_type": "code",
   "execution_count": 50,
   "metadata": {
    "metadata": {}
   },
   "outputs": [
    {
     "name": "stdout",
     "output_type": "stream",
     "text": [
      "No. of samples:  100000\n"
     ]
    },
    {
     "name": "stderr",
     "output_type": "stream",
     "text": [
      "100%|██████████| 100000/100000 [00:00<00:00, 2542603.40it/s]"
     ]
    },
    {
     "name": "stdout",
     "output_type": "stream",
     "text": [
      "340.4266067910662\n"
     ]
    },
    {
     "name": "stderr",
     "output_type": "stream",
     "text": [
      "\n"
     ]
    }
   ],
   "source": [
    "samples = np.load('samples.npy', allow_pickle=True)\n",
    "print(\"No. of samples: \", len(samples))\n",
    "for s in tqdm.tqdm(samples):\n",
    "    assert s[0] < 0 or s[1] < 0 or s[2] < 0\n",
    "samples[:,3] += 100\n",
    "print(np.max(samples[:,3]))\n",
    "#sampled_points = np.load('sampled_points.npy', allow_pickle=True)\n",
    "#for s in tqdm.tqdm(sampled_points):\n",
    "#    continue\n",
    "#print(\"No. of sampled points: \", len(sampled_points))"
   ]
  },
  {
   "cell_type": "code",
   "execution_count": 34,
   "metadata": {
    "metadata": {}
   },
   "outputs": [
    {
     "name": "stdout",
     "output_type": "stream",
     "text": [
      "(100000, 8)\n"
     ]
    },
    {
     "name": "stderr",
     "output_type": "stream",
     "text": [
      " 25%|██▌       | 1/4 [00:00<00:02,  1.35it/s]"
     ]
    },
    {
     "name": "stdout",
     "output_type": "stream",
     "text": [
      "All samples have at least one negative values for  [0, 3, 5, 1] two negatives: 21785 three negatives: 76323\n"
     ]
    },
    {
     "name": "stderr",
     "output_type": "stream",
     "text": [
      " 25%|██▌       | 1/4 [00:01<00:03,  1.24s/it]\n"
     ]
    },
    {
     "ename": "KeyboardInterrupt",
     "evalue": "",
     "output_type": "error",
     "traceback": [
      "\u001b[0;31m---------------------------------------------------------------------------\u001b[0m",
      "\u001b[0;31mKeyboardInterrupt\u001b[0m                         Traceback (most recent call last)",
      "Cell \u001b[0;32mIn[34], line 53\u001b[0m\n\u001b[1;32m     50\u001b[0m qf_3 \u001b[38;5;241m=\u001b[39m \u001b[38;5;241m0\u001b[39m\n\u001b[1;32m     51\u001b[0m \u001b[38;5;28;01mfor\u001b[39;00m i \u001b[38;5;129;01min\u001b[39;00m \u001b[38;5;28mrange\u001b[39m(\u001b[38;5;28mlen\u001b[39m(samples)):\n\u001b[1;32m     52\u001b[0m     \u001b[38;5;66;03m# print([1*(samples[i][c[j]]<0) for j in range(3)])\u001b[39;00m\n\u001b[0;32m---> 53\u001b[0m     qf \u001b[38;5;241m=\u001b[39m np\u001b[38;5;241m.\u001b[39msum([\u001b[38;5;241m1\u001b[39m\u001b[38;5;241m*\u001b[39m(samples[i][c[j]]\u001b[38;5;241m<\u001b[39m\u001b[38;5;241m0\u001b[39m) \u001b[38;5;28;01mfor\u001b[39;00m j \u001b[38;5;129;01min\u001b[39;00m \u001b[38;5;28mrange\u001b[39m(\u001b[38;5;241m3\u001b[39m)])\n\u001b[1;32m     54\u001b[0m     \u001b[38;5;66;03m# qf = np.sum([1*(samples[i][c[j]]<0) for j in range(2)])\u001b[39;00m\n\u001b[1;32m     55\u001b[0m     \u001b[38;5;28;01mif\u001b[39;00m  qf \u001b[38;5;241m>\u001b[39m\u001b[38;5;241m=\u001b[39m \u001b[38;5;241m1\u001b[39m:\n",
      "Cell \u001b[0;32mIn[34], line 53\u001b[0m, in \u001b[0;36m<listcomp>\u001b[0;34m(.0)\u001b[0m\n\u001b[1;32m     50\u001b[0m qf_3 \u001b[38;5;241m=\u001b[39m \u001b[38;5;241m0\u001b[39m\n\u001b[1;32m     51\u001b[0m \u001b[38;5;28;01mfor\u001b[39;00m i \u001b[38;5;129;01min\u001b[39;00m \u001b[38;5;28mrange\u001b[39m(\u001b[38;5;28mlen\u001b[39m(samples)):\n\u001b[1;32m     52\u001b[0m     \u001b[38;5;66;03m# print([1*(samples[i][c[j]]<0) for j in range(3)])\u001b[39;00m\n\u001b[0;32m---> 53\u001b[0m     qf \u001b[38;5;241m=\u001b[39m np\u001b[38;5;241m.\u001b[39msum([\u001b[38;5;241m1\u001b[39m\u001b[38;5;241m*\u001b[39m(samples[i][c[j]]\u001b[38;5;241m<\u001b[39m\u001b[38;5;241m0\u001b[39m) \u001b[38;5;28;01mfor\u001b[39;00m j \u001b[38;5;129;01min\u001b[39;00m \u001b[38;5;28mrange\u001b[39m(\u001b[38;5;241m3\u001b[39m)])\n\u001b[1;32m     54\u001b[0m     \u001b[38;5;66;03m# qf = np.sum([1*(samples[i][c[j]]<0) for j in range(2)])\u001b[39;00m\n\u001b[1;32m     55\u001b[0m     \u001b[38;5;28;01mif\u001b[39;00m  qf \u001b[38;5;241m>\u001b[39m\u001b[38;5;241m=\u001b[39m \u001b[38;5;241m1\u001b[39m:\n",
      "\u001b[0;31mKeyboardInterrupt\u001b[0m: "
     ]
    }
   ],
   "source": [
    "samples = np.load('sample_7_pt.npy', allow_pickle=True)\n",
    "print(samples.shape)\n",
    "max(samples[:,6])\n",
    "\n",
    "combos = [[0,3,5,1],\n",
    "          [0,3,5,2],\n",
    "          [0,3,5,4],\n",
    "          [0,3,5,6],]\n",
    "# combos = [[0,1,2],\n",
    "#           [0,1,3],\n",
    "#           [0,1,4],\n",
    "#           [0,1,5],\n",
    "#           [0,2,3],\n",
    "#           [0,2,4],\n",
    "#           [0,2,5],\n",
    "#           [0,3,4],\n",
    "#           [0,3,5],\n",
    "#           [0,4,5],\n",
    "#           [1,2,3],\n",
    "#           [1,2,4],\n",
    "#           [1,2,5],\n",
    "#           [1,3,4],\n",
    "#           [1,3,5],\n",
    "#           [1,4,5],\n",
    "#           [2,3,4],\n",
    "#           [2,3,5],\n",
    "#           [2,4,5],\n",
    "#           [3,4,5]]\n",
    "\n",
    "# combos= [[0,1],\n",
    "#          [0,2],\n",
    "#          [0,3],\n",
    "#          [0,4],\n",
    "#          [0,5],\n",
    "#          [1,2],\n",
    "#          [1,3],\n",
    "#          [1,4],\n",
    "#          [1,5],\n",
    "#          [2,3],\n",
    "#          [2,4],\n",
    "#          [2,5],\n",
    "#          [3,4],\n",
    "#          [3,5],\n",
    "#          [4,5]]\n",
    "\n",
    "prev = True\n",
    "for j in tqdm.tqdm(range(len(combos))):\n",
    "    c = combos[j]\n",
    "    qf_2 = 0\n",
    "    qf_3 = 0\n",
    "    for i in range(len(samples)):\n",
    "        # print([1*(samples[i][c[j]]<0) for j in range(3)])\n",
    "        qf = np.sum([1*(samples[i][c[j]]<0) for j in range(3)])\n",
    "        # qf = np.sum([1*(samples[i][c[j]]<0) for j in range(2)])\n",
    "        if  qf >= 1:\n",
    "            prev = True\n",
    "            if qf == 2:\n",
    "                qf_2 += 1\n",
    "            elif qf == 3:\n",
    "                qf_3 += 1\n",
    "            continue\n",
    "        else:\n",
    "            prev = False\n",
    "            break\n",
    "    if prev == True:\n",
    "        print(\"All samples have at least one negative values for \", c, \"two negatives:\", qf_2, \"three negatives:\", qf_3)\n",
    "\n",
    "\n",
    "for k in  [1,2,4,6]:\n",
    "    p = 0\n",
    "    p_0 = 0\n",
    "    p_3 = 0\n",
    "    p_5 = 0\n",
    "    p_k = 0\n",
    "    for i in tqdm.tqdm(range(len(samples))):\n",
    "        samples[i][6] =  samples[i][0]+9*samples[i][3]+samples[i][5] + samples[i][k]\n",
    "        # samples[i][6] =  samples[i][0]+samples[i][3]+samples[i][5]\n",
    "        if samples[i][6] > 0:\n",
    "            p += 1\n",
    "            p_0 += samples[i][0]\n",
    "            p_3 += samples[i][3]\n",
    "            p_5 += samples[i][5]\n",
    "            p_k += samples[i][k]\n",
    "    print(\"At k:\", k, \"positive for:\", p, \"mean p_0:\", p_0/p, \"mean p_3:\", p_3/p, \"mean p_5:\", p_5/p, \"mean p_k:\", p_k/p)\n",
    "# print(\"positive for:\", p, \"mean p_0:\", p_0/p, \"mean p_3:\", p_3/p, \"mean p_5:\", p_5/p)"
   ]
  },
  {
   "cell_type": "markdown",
   "metadata": {},
   "source": [
    "## Gradient Search"
   ]
  },
  {
   "cell_type": "code",
   "execution_count": null,
   "metadata": {
    "metadata": {}
   },
   "outputs": [
    {
     "name": "stderr",
     "output_type": "stream",
     "text": [
      "  0%|          | 0/100000 [00:00<?, ?it/s]\n"
     ]
    },
    {
     "ename": "KeyboardInterrupt",
     "evalue": "",
     "output_type": "error",
     "traceback": [
      "\u001b[0;31m---------------------------------------------------------------------------\u001b[0m",
      "\u001b[0;31mKeyboardInterrupt\u001b[0m                         Traceback (most recent call last)",
      "Cell \u001b[0;32mIn[8], line 54\u001b[0m\n\u001b[1;32m     51\u001b[0m \u001b[38;5;28;01mfor\u001b[39;00m j \u001b[38;5;129;01min\u001b[39;00m \u001b[38;5;28mrange\u001b[39m(\u001b[38;5;28mlen\u001b[39m(samples)):\n\u001b[1;32m     52\u001b[0m     \u001b[38;5;66;03m# samples[j][6] = cons[0] * samples[j][0] + cons[1] * samples[j][3] + cons[2] * samples[j][5]+ cons[3] * samples[j][4]\u001b[39;00m\n\u001b[1;32m     53\u001b[0m     samples[j][\u001b[38;5;241m6\u001b[39m] \u001b[38;5;241m=\u001b[39m cons[\u001b[38;5;241m0\u001b[39m] \u001b[38;5;241m*\u001b[39m samples[j][\u001b[38;5;241m0\u001b[39m] \u001b[38;5;241m+\u001b[39m cons[\u001b[38;5;241m1\u001b[39m] \u001b[38;5;241m*\u001b[39m samples[j][\u001b[38;5;241m3\u001b[39m] \u001b[38;5;241m+\u001b[39m cons[\u001b[38;5;241m2\u001b[39m] \u001b[38;5;241m*\u001b[39m samples[j][\u001b[38;5;241m5\u001b[39m]\n\u001b[0;32m---> 54\u001b[0m     \u001b[38;5;28;01mif\u001b[39;00m samples[j][\u001b[38;5;241m6\u001b[39m] \u001b[38;5;241m>\u001b[39m \u001b[38;5;241m0\u001b[39m:\n\u001b[1;32m     55\u001b[0m         pos_count_2[\u001b[38;5;241m0\u001b[39m] \u001b[38;5;241m+\u001b[39m\u001b[38;5;241m=\u001b[39m \u001b[38;5;241m1\u001b[39m\n\u001b[1;32m     56\u001b[0m mv[\u001b[38;5;241m4\u001b[39m] \u001b[38;5;241m=\u001b[39m \u001b[38;5;28mmax\u001b[39m(samples[:,\u001b[38;5;241m6\u001b[39m])\n",
      "\u001b[0;31mKeyboardInterrupt\u001b[0m: "
     ]
    }
   ],
   "source": [
    "cons = np.array([3.1, 9., 1.])\n",
    "epochs = 100000\n",
    "max_v = max(samples[:,6])\n",
    "for i in tqdm.tqdm(range(epochs)):\n",
    "    lr = 0.025\n",
    "    pos_count = 0\n",
    "    pos_count_0 = [0,0]\n",
    "    pos_count_1 = [0,0]\n",
    "    pos_count_2 = [0,0]\n",
    "    # pos_count_3 = [0,0]\n",
    "\n",
    "    mv = [max(samples[:,6])]*6\n",
    "    for j in (range(len(samples))):\n",
    "        # samples[j][6] = cons[0] * samples[j][0] + cons[1] * samples[j][3] + cons[2] * samples[j][5] + cons[3] * samples[j][4]\n",
    "        samples[j][6] = cons[0] * samples[j][0] + cons[1] * samples[j][3] + cons[2] * samples[j][5]\n",
    "        if samples[j][6] > 0:\n",
    "            pos_count += 1\n",
    "    cmv = max(samples[:,6])\n",
    "    cons[0] = cons[0]-lr\n",
    "    for j in range(len(samples)):\n",
    "        # samples[j][6] = cons[0] * samples[j][0] + cons[1] * samples[j][3] + cons[2] * samples[j][5] + cons[3] * samples[j][4]\n",
    "        samples[j][6] = cons[0] * samples[j][0] + cons[1] * samples[j][3] + cons[2] * samples[j][5]\n",
    "        if samples[j][6] > 0:\n",
    "            pos_count_0[0] += 1\n",
    "    mv[0] = max(samples[:,6])\n",
    "    cons[0] += 2*lr\n",
    "    for j in range(len(samples)):\n",
    "        # samples[j][6] = cons[0] * samples[j][0] + cons[1] * samples[j][3] + cons[2] * samples[j][5] + cons[3] * samples[j][4]\n",
    "        samples[j][6] = cons[0] * samples[j][0] + cons[1] * samples[j][3] + cons[2] * samples[j][5]\n",
    "        if samples[j][6] > 0:\n",
    "            pos_count_0[1] += 1\n",
    "    mv[1] = max(samples[:,6])\n",
    "    cons[0] -= lr\n",
    "    cons[1] -= lr\n",
    "    for j in range(len(samples)):\n",
    "        # samples[j][6] = cons[0] * samples[j][0] + cons[1] * samples[j][3] + cons[2] * samples[j][5]+ cons[3] * samples[j][4]\n",
    "        samples[j][6] = cons[0] * samples[j][0] + cons[1] * samples[j][3] + cons[2] * samples[j][5]\n",
    "        if samples[j][6] > 0:\n",
    "            pos_count_1[0] += 1\n",
    "    mv[2] = max(samples[:,6])\n",
    "    cons[1] += 2*lr\n",
    "    for j in range(len(samples)):\n",
    "        # samples[j][6] = cons[0] * samples[j][0] + cons[1] * samples[j][3] + cons[2] * samples[j][5]+ cons[3] * samples[j][4]\n",
    "        samples[j][6] = cons[0] * samples[j][0] + cons[1] * samples[j][3] + cons[2] * samples[j][5]\n",
    "\n",
    "        if samples[j][6] > 0:\n",
    "            pos_count_1[1] += 1\n",
    "    mv[3] = max(samples[:,6])\n",
    "    cons[1] -= lr\n",
    "    cons[2] -= lr\n",
    "    for j in range(len(samples)):\n",
    "        # samples[j][6] = cons[0] * samples[j][0] + cons[1] * samples[j][3] + cons[2] * samples[j][5]+ cons[3] * samples[j][4]\n",
    "        samples[j][6] = cons[0] * samples[j][0] + cons[1] * samples[j][3] + cons[2] * samples[j][5]\n",
    "        if samples[j][6] > 0:\n",
    "            pos_count_2[0] += 1\n",
    "    mv[4] = max(samples[:,6])\n",
    "    cons[2] += 2*lr\n",
    "    for j in range(len(samples)):\n",
    "        # samples[j][6] = cons[0] * samples[j][0] + cons[1] * samples[j][3] + cons[2] * samples[j][5]+ cons[3] * samples[j][4]\n",
    "        samples[j][6] = cons[0] * samples[j][0] + cons[1] * samples[j][3] + cons[2] * samples[j][5]\n",
    "        if samples[j][6] > 0:\n",
    "            pos_count_2[1] += 1\n",
    "    mv[5] = max(samples[:,6])\n",
    "    cons[2] -= lr\n",
    "    # cons[3] -= lr\n",
    "    # for j in range(len(samples)):\n",
    "    #     samples[j][6] = cons[0] * samples[j][0] + cons[1] * samples[j][3] + cons[2] * samples[j][5]+ cons[3] * samples[j][4]\n",
    "    #     if samples[j][6] > 0:\n",
    "    #         pos_count_3[0] += 1\n",
    "    # cons[3] += 2*lr\n",
    "    # for j in range(len(samples)):\n",
    "    #     samples[j][6] = cons[0] * samples[j][0] + cons[1] * samples[j][3] + cons[2] * samples[j][5]+ cons[3] * samples[j][4]\n",
    "    #     if samples[j][6] > 0:\n",
    "    #         pos_count_3[1] += 1\n",
    "    # cons[3] -= lr\n",
    "    if min(mv) > cmv:\n",
    "        print(\"Unable to find immediate improvement.\")\n",
    "        break\n",
    "\n",
    "    # idx = np.argmin(pos_count_0+pos_count_1+pos_count_2+pos_count_3)\n",
    "    idx = np.argmin(pos_count_0+pos_count_1+pos_count_2)\n",
    "                    \n",
    "    # if min(pos_count_0+pos_count_1+pos_count_2+pos_count_3) <= pos_count:\n",
    "    if min(pos_count_0+pos_count_1+pos_count_2) <= pos_count:\n",
    "\n",
    "        if idx == 0:\n",
    "            cons[0] -= lr\n",
    "        elif idx == 1:\n",
    "            cons[0] += lr\n",
    "        elif idx == 2:\n",
    "            cons[1] -= lr\n",
    "        elif idx == 3:\n",
    "            cons[1] += lr\n",
    "        elif idx == 4:\n",
    "            cons[2] -= lr\n",
    "        elif idx == 5:\n",
    "            cons[2] += lr\n",
    "        # elif idx == 6:\n",
    "        #     cons[3] -= lr\n",
    "        # elif idx == 7:\n",
    "        #     cons[3] += lr\n",
    "\n",
    "    pos_count = 0\n",
    "    for j in range(len(samples)):\n",
    "        # samples[j][6] = cons[0] * samples[j][0] + cons[1] * samples[j][3] + cons[2] * samples[j][5] + cons[3] * samples[j][4]\n",
    "        samples[j][6] = cons[0] * samples[j][0] + cons[1] * samples[j][3] + cons[2] * samples[j][5]\n",
    "\n",
    "        if samples[j][6] > 0:\n",
    "            pos_count += 1\n",
    "            \n",
    "    max_v = max(samples[:,6])\n",
    "    min_v = min(samples[:,6])\n",
    "\n",
    "    if i % 10 == 0:\n",
    "        print(\"Epoch: \", i, \"Max: \", max_v, \"Cons: \", cons, \"Min: \", min_v, \"Positive count: \", pos_count)\n",
    "        "
   ]
  },
  {
   "cell_type": "markdown",
   "metadata": {},
   "source": [
    "## Grid Search"
   ]
  },
  {
   "cell_type": "code",
   "execution_count": null,
   "metadata": {},
   "outputs": [
    {
     "name": "stdout",
     "output_type": "stream",
     "text": [
      "c_arr_1 [0.04 0.08 0.12 0.16 0.2  0.24 0.28 0.32 0.36 0.4  0.44 0.48 0.52 0.56\n",
      " 0.6  0.64 0.68 0.72 0.76 0.8  0.84 0.88 0.92 0.96 1.  ]\n",
      "c_arr_2 [0.04 0.08 0.12 0.16 0.2  0.24 0.28 0.32 0.36 0.4  0.44 0.48 0.52 0.56\n",
      " 0.6  0.64 0.68 0.72 0.76 0.8  0.84 0.88 0.92 0.96 1.  ]\n",
      "c_arr_3 [0.04 0.08 0.12 0.16 0.2  0.24 0.28 0.32 0.36 0.4  0.44 0.48 0.52 0.56\n",
      " 0.6  0.64 0.68 0.72 0.76 0.8  0.84 0.88 0.92 0.96 1.  ]\n",
      "starting at: 1019\n",
      "new minimum: 332 c_vals: [0.04, 0.08, 0.04] i: 0 j: 1 k: 0\n",
      "new minimum: 291 c_vals: [0.04, 0.12, 0.04] i: 0 j: 2 k: 0\n",
      "new minimum: 278 c_vals: [0.04, 0.16, 0.04] i: 0 j: 3 k: 0\n",
      "new minimum: 269 c_vals: [0.04, 0.2, 0.04] i: 0 j: 4 k: 0\n",
      "new minimum: 256 c_vals: [0.04, 0.24, 0.04] i: 0 j: 5 k: 0\n",
      "new minimum: 247 c_vals: [0.04, 0.28, 0.04] i: 0 j: 6 k: 0\n",
      "new minimum: 239 c_vals: [0.08, 0.24, 0.04] i: 1 j: 5 k: 0\n",
      "new minimum: 229 c_vals: [0.08, 0.28, 0.04] i: 1 j: 6 k: 0\n",
      "new minimum: 221 c_vals: [0.08, 0.32, 0.04] i: 1 j: 7 k: 0\n",
      "new minimum: 220 c_vals: [0.12, 0.32, 0.04] i: 2 j: 7 k: 0\n",
      "new minimum: 213 c_vals: [0.12, 0.36, 0.04] i: 2 j: 8 k: 0\n",
      "Unexpected exception formatting exception. Falling back to standard exception\n"
     ]
    },
    {
     "name": "stderr",
     "output_type": "stream",
     "text": [
      "Traceback (most recent call last):\n",
      "  File \"/home/pulkit/.local/lib/python3.10/site-packages/IPython/core/interactiveshell.py\", line 3548, in run_code\n",
      "    exec(code_obj, self.user_global_ns, self.user_ns)\n",
      "  File \"/tmp/ipykernel_11364/3095319030.py\", line 38, in <module>\n",
      "    pos_count = get_pos_count([c1, c2, c3])\n",
      "  File \"/tmp/ipykernel_11364/3095319030.py\", line -1, in get_pos_count\n",
      "KeyboardInterrupt\n",
      "\n",
      "During handling of the above exception, another exception occurred:\n",
      "\n",
      "Traceback (most recent call last):\n",
      "  File \"/home/pulkit/.local/lib/python3.10/site-packages/IPython/core/interactiveshell.py\", line 2142, in showtraceback\n",
      "    stb = self.InteractiveTB.structured_traceback(\n",
      "  File \"/home/pulkit/.local/lib/python3.10/site-packages/IPython/core/ultratb.py\", line 1435, in structured_traceback\n",
      "    return FormattedTB.structured_traceback(\n",
      "  File \"/home/pulkit/.local/lib/python3.10/site-packages/IPython/core/ultratb.py\", line 1326, in structured_traceback\n",
      "    return VerboseTB.structured_traceback(\n",
      "  File \"/home/pulkit/.local/lib/python3.10/site-packages/IPython/core/ultratb.py\", line 1173, in structured_traceback\n",
      "    formatted_exception = self.format_exception_as_a_whole(etype, evalue, etb, number_of_lines_of_context,\n",
      "  File \"/home/pulkit/.local/lib/python3.10/site-packages/IPython/core/ultratb.py\", line 1088, in format_exception_as_a_whole\n",
      "    frames.append(self.format_record(record))\n",
      "  File \"/home/pulkit/.local/lib/python3.10/site-packages/IPython/core/ultratb.py\", line 970, in format_record\n",
      "    frame_info.lines, Colors, self.has_colors, lvals\n",
      "  File \"/home/pulkit/.local/lib/python3.10/site-packages/IPython/core/ultratb.py\", line 792, in lines\n",
      "    return self._sd.lines\n",
      "  File \"/home/pulkit/.local/lib/python3.10/site-packages/stack_data/utils.py\", line 145, in cached_property_wrapper\n",
      "    value = obj.__dict__[self.func.__name__] = self.func(obj)\n",
      "  File \"/home/pulkit/.local/lib/python3.10/site-packages/stack_data/core.py\", line 734, in lines\n",
      "    pieces = self.included_pieces\n",
      "  File \"/home/pulkit/.local/lib/python3.10/site-packages/stack_data/utils.py\", line 145, in cached_property_wrapper\n",
      "    value = obj.__dict__[self.func.__name__] = self.func(obj)\n",
      "  File \"/home/pulkit/.local/lib/python3.10/site-packages/stack_data/core.py\", line 681, in included_pieces\n",
      "    pos = scope_pieces.index(self.executing_piece)\n",
      "  File \"/home/pulkit/.local/lib/python3.10/site-packages/stack_data/utils.py\", line 145, in cached_property_wrapper\n",
      "    value = obj.__dict__[self.func.__name__] = self.func(obj)\n",
      "  File \"/home/pulkit/.local/lib/python3.10/site-packages/stack_data/core.py\", line 660, in executing_piece\n",
      "    return only(\n",
      "  File \"/home/pulkit/.local/lib/python3.10/site-packages/executing/executing.py\", line 116, in only\n",
      "    raise NotOneValueFound('Expected one value, found 0')\n",
      "executing.executing.NotOneValueFound: Expected one value, found 0\n"
     ]
    }
   ],
   "source": [
    "# define c_arr taking vals from 1 to 10000\n",
    "pts = 25\n",
    "c_arr = np.linspace(1, pts, pts)/pts \n",
    "c_arr_1 = c_arr\n",
    "c_arr_2 = c_arr\n",
    "c_arr_3 = c_arr\n",
    "# c_arr_1 = np.linspace(0.5-1/24, 0.5+1/24, pts) \n",
    "# c_arr_2 = np.linspace(0.4-1/24, 0.4+1/24, pts) \n",
    "# c_arr_3 = np.linspace(0.0467-1/24, 0.0467+1/24, pts) \n",
    "\n",
    "print(\"c_arr_1\", c_arr_1)\n",
    "print(\"c_arr_2\", c_arr_2)\n",
    "print(\"c_arr_3\", c_arr_3)\n",
    "\n",
    "const_arr = np.array([c_arr, c_arr, c_arr]).T\n",
    "# get positive count for sample[:,3]\n",
    "def get_pos_count(const_arr):\n",
    "    pos_count = 0\n",
    "    for j in range(len(samples)):\n",
    "        samples[j][6] = const_arr[0] * samples[j][0] + const_arr[1] * samples[j][3] + const_arr[2] * samples[j][5]\n",
    "        if samples[j][6] > 0:\n",
    "            pos_count += 1\n",
    "    return pos_count\n",
    "# c = [0.5, 0.4, 0.04666666666666667]\n",
    "c = [1,1,1]\n",
    "\n",
    "c3 = None\n",
    "min_pos_count = get_pos_count(c)\n",
    "print(\"starting at:\", min_pos_count)\n",
    "i = 0\n",
    "exit_1 = False\n",
    "for i in range(len(c_arr_1)):\n",
    "    c1 = c_arr_1[i]\n",
    "    for j in (range(len(c_arr_2))):  \n",
    "        c2 = c_arr_2[j]     \n",
    "        for k in range(len(c_arr_1)):\n",
    "            c3 = c_arr_3[k]\n",
    "            pos_count = get_pos_count([c1, c2, c3])\n",
    "            if pos_count < min_pos_count:\n",
    "                min_pos_count = pos_count\n",
    "                c = [c1, c2, c3]\n",
    "                print(\"new minimum:\", pos_count, \"c_vals:\", c, \"i:\", i, \"j:\", j, \"k:\", k)\n",
    "\n",
    "            if pos_count == 0:\n",
    "                exit_1 = True\n",
    "        \n",
    "        if exit_1:\n",
    "            break\n",
    "    if exit_1:\n",
    "        print(\"Found 0 positive at:\", [c1,c2,c3])\n",
    "        break\n",
    "    "
   ]
  },
  {
   "cell_type": "code",
   "execution_count": null,
   "metadata": {},
   "outputs": [],
   "source": [
    "print(c, pos_count)\n",
    "get_pos_count([1,1,1])"
   ]
  },
  {
   "cell_type": "markdown",
   "metadata": {},
   "source": [
    "## Neural Network Approach"
   ]
  },
  {
   "cell_type": "code",
   "execution_count": 52,
   "metadata": {},
   "outputs": [
    {
     "name": "stderr",
     "output_type": "stream",
     "text": [
      "  0%|          | 0/90000 [00:00<?, ?it/s]/home/pulkit/.local/lib/python3.10/site-packages/torch/nn/modules/loss.py:535: UserWarning: Using a target size (torch.Size([])) that is different to the input size (torch.Size([1])). This will likely lead to incorrect results due to broadcasting. Please ensure they have the same size.\n",
      "  return F.mse_loss(input, target, reduction=self.reduction)\n",
      "100%|██████████| 90000/90000 [00:28<00:00, 3124.98it/s]\n",
      "100%|██████████| 10000/10000 [00:00<00:00, 37509.26it/s]\n"
     ]
    },
    {
     "name": "stdout",
     "output_type": "stream",
     "text": [
      "Epoch 0 Average Loss: 229992309.65852752 Bad Train Samples: 204 Bad Val Samples: 2 Mean: -12.655572562055966 Variance: 1640.0419180191923\n"
     ]
    },
    {
     "name": "stderr",
     "output_type": "stream",
     "text": [
      "100%|██████████| 90000/90000 [00:28<00:00, 3201.76it/s]\n"
     ]
    }
   ],
   "source": [
    "\n",
    "class model(torch.nn.Module):\n",
    "    def __init__(self):\n",
    "        super(model, self).__init__()\n",
    "        self.in_  = torch.nn.Linear(3, 1, bias=False)\n",
    "        self.in_.weight.data = torch.tensor([[1.0, 1.0, 1.0]])\n",
    "        # single layer network to train weights\n",
    "\n",
    "    def forward(self, x):\n",
    "        x = self.in_(x)\n",
    "        return x\n",
    "\n",
    "def train(model: torch.nn.Module, epochs, samples):\n",
    "    optimizer = torch.optim.Adam(model.parameters(), lr=3e-3)\n",
    "    loss_fn = torch.nn.MSELoss()\n",
    "    # train val split\n",
    "    train_samples = samples[:int(len(samples) * 0.9)]\n",
    "    val_samples = samples[int(len(samples) * 0.9):]\n",
    "    best_loss = 10000\n",
    "    \n",
    "    # training loop\n",
    "    for epoch in (range(epochs)):\n",
    "        mean = np.mean(samples[:,3])\n",
    "        variance = np.var(samples[:,3])\n",
    "        running_loss = 0\n",
    "        bad_train_samples = 0\n",
    "        np.random.shuffle(train_samples)\n",
    "        for j in tqdm.tqdm(range(len(train_samples))):\n",
    "            sample = train_samples[j]\n",
    "            x = torch.tensor([float(sample[0]), float(sample[1]), float(sample[2])])\n",
    "            y_pred = torch.mul(model(x), torch.tensor(float(variance)))\n",
    "            loss = loss_fn(y_pred, torch.mul(torch.tensor(float(min(sample[3], mean))), torch.tensor(float(variance))))\n",
    "            if y_pred >=0:\n",
    "                bad_train_samples += 1\n",
    "            optimizer.zero_grad() \n",
    "            running_loss += loss.item()\n",
    "            loss.backward()\n",
    "            optimizer.step()\n",
    "            for p in model.parameters():\n",
    "                p.data.clamp_(0)\n",
    "            # set bias to zero\n",
    "        # reset sample_outs\n",
    "        for k in range(len(train_samples)):\n",
    "            x = torch.tensor([float(s[0]), float(s[1]), float(s[2])])\n",
    "            y_pred = model(x)\n",
    "            train_samples[k][3] = y_pred.item()\n",
    "\n",
    "        # validation\n",
    "        val_loss = 0\n",
    "        for j in tqdm.tqdm(range(len(val_samples))):\n",
    "            sample = val_samples[j]\n",
    "            x = torch.tensor([float(sample[0]), float(sample[1]), float(sample[2])])\n",
    "            y_pred = model(x)\n",
    "            if y_pred >= 0:\n",
    "                val_loss += 1\n",
    "        best_loss = min(best_loss, val_loss)\n",
    "        if val_loss == best_loss:\n",
    "            best_model = model\n",
    "        \n",
    "        # outputs\n",
    "        print(f\"Epoch {epoch} Average Loss: {running_loss/90000} Bad Train Samples: {bad_train_samples} Bad Val Samples: {val_loss} Mean: {mean} Variance: {variance}\")\n",
    "        if val_loss == 0 and bad_train_samples == 0:\n",
    "            print(\"No bad samples found, training terminated.\")\n",
    "            break\n",
    "    return best_model\n",
    "# create model\n",
    "model = model()\n",
    "\n",
    "\n",
    "# train model\n",
    "best_model = train(model, 10000, samples)\n"
   ]
  },
  {
   "cell_type": "code",
   "execution_count": null,
   "metadata": {},
   "outputs": [
    {
     "name": "stdout",
     "output_type": "stream",
     "text": [
      "Running experiment with model:\n",
      "None tensor([[0.3333, 0.3333, 0.3333]])\n"
     ]
    }
   ],
   "source": [
    "print(\"Running experiment with model:\")\n",
    "model = best_model\n",
    "for p in model.parameters():\n",
    "    if p.requires_grad:\n",
    "         print(p.name, p.data)\n",
    "    # print bias\n",
    "    else:\n",
    "        print(p.name, p.data)"
   ]
  },
  {
   "cell_type": "code",
   "execution_count": null,
   "metadata": {},
   "outputs": [
    {
     "name": "stderr",
     "output_type": "stream",
     "text": [
      "  0%|          | 4/100000 [00:00<5:17:13,  5.25it/s]"
     ]
    },
    {
     "name": "stdout",
     "output_type": "stream",
     "text": [
      "Positive v_dot found, value tensor([10.0718], grad_fn=<SqueezeBackward4>)\n"
     ]
    },
    {
     "name": "stderr",
     "output_type": "stream",
     "text": [
      "\n"
     ]
    }
   ],
   "source": [
    "v_dot_subs_f = -1\n",
    "count = 0\n",
    "# while count < 100000 and v_dot_subs_f < 0:\n",
    "for i in tqdm.tqdm(range(100000)):\n",
    "    phi_1_subs = -np.pi + 2 * np.pi * np.random.rand()\n",
    "    phi_2_subs = -r * np.pi + 2 * r * np.pi * np.random.rand()\n",
    "    phi_3_subs = -r * np.pi + 2 * r * np.pi * np.random.rand()\n",
    "    R_subs = 0.1 + 2.9 * np.random.rand()\n",
    "    l_subs = 1\n",
    "    delta_1_subs = float(delta_1.subs({phi_1: phi_1_subs, phi_2: phi_2_subs, phi_3: phi_3_subs, l: l_subs, R: R_subs, alpha: 0}))\n",
    "    delta_2_subs = float(delta_2.subs({phi_1: phi_1_subs, phi_2: phi_2_subs, phi_3: phi_3_subs, l: l_subs, R: R_subs, alpha: 0}))\n",
    "    delta_3_subs = float(delta_3.subs({phi_1: phi_1_subs, phi_2: phi_2_subs, phi_3: phi_3_subs, l: l_subs, R: R_subs, alpha: 0}))\n",
    "    l_ = 1\n",
    "    k1 = R_subs\n",
    "    k2 = 0\n",
    "    f = [phi_1_subs, phi_2_subs, phi_3_subs]\n",
    "    x_0 = [l_ * np.cos(f[0]), l_ * np.sin(f[0]), l_ * np.cos(f[0]) + l_ * np.cos(f[0] + f[1]), l_ * np.sin(f[0]) + l_ * np.sin(f[0] + f[1]), l_ * np.cos(f[0]) + l_ * np.cos(f[0] + f[1]) + l_ * np.cos(f[0] + f[1] + f[2]), l_ * np.sin(f[0]) + l_ * np.sin(f[0] + f[1]) + l_ * np.sin(f[0] + f[1] + f[2]), f[0], f[1], f[2]]\n",
    "    tspan = np.arange(0, 300.1, 0.1)\n",
    "    sol = integrate.odeint(foot, x_0, tspan, args=(l_, k1, k2))\n",
    "    f1_star = sol[3000, 6]\n",
    "    f2_star = sol[3000, 7]\n",
    "    f3_star = sol[3000, 8]\n",
    "    qty_1_4 = (phi_1_subs - f1_star) * delta_1_subs\n",
    "    qty_2_4 = (phi_1_subs - f1_star + phi_2_subs - f2_star) * (delta_2_subs + delta_1_subs)\n",
    "    qty_3_4 = (phi_3_subs - f3_star + phi_1_subs - f1_star + phi_2_subs - f2_star) * (delta_1_subs + delta_2_subs + delta_3_subs)\n",
    "    v_dot_4 = 2 * (qty_1_4 + qty_2_4 + qty_3_4)\n",
    "    qty_subs_1 = float(qty.subs({phi_1: phi_1_subs, phi_2: phi_2_subs, phi_3: phi_3_subs, l: l_subs, R: R_subs, alpha: 0}))\n",
    "    qty_subs_2 = float(qty_2.subs({phi_1: phi_1_subs, phi_2: phi_2_subs, phi_3: phi_3_subs, l: l_subs, R: R_subs, alpha: 0}))\n",
    "    qty_subs_3 = float(qty_3.subs({phi_1: phi_1_subs, phi_2: phi_2_subs, phi_3: phi_3_subs, l: l_subs, R: R_subs, alpha: 0}))\n",
    "    v_dot_3 = 2 * (qty_subs_1 + qty_subs_2 + qty_subs_3)\n",
    "    v_dot_subs = float(v_dot.subs({phi_1: phi_1_subs, phi_2: phi_2_subs, phi_3: phi_3_subs, l: l_subs, R: R_subs, alpha: 0}))\n",
    "    v_dot_subs_f = model(torch.tensor([float(v_dot_subs), float(v_dot_3), float(v_dot_4)]))\n",
    "    if v_dot_subs_f > 0:\n",
    "        break\n",
    "if count == 100000:\n",
    "    print(\"Sim completed successfully\")\n",
    "else:\n",
    "    print(\"Positive v_dot found, value\", v_dot_subs_f)"
   ]
  }
 ],
 "metadata": {
  "kernelspec": {
   "display_name": "base",
   "language": "python",
   "name": "python3"
  },
  "language_info": {
   "codemirror_mode": {
    "name": "ipython",
    "version": 3
   },
   "file_extension": ".py",
   "mimetype": "text/x-python",
   "name": "python",
   "nbconvert_exporter": "python",
   "pygments_lexer": "ipython3",
   "version": "3.10.12"
  }
 },
 "nbformat": 4,
 "nbformat_minor": 2
}
